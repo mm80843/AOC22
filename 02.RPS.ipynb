{
 "cells": [
  {
   "cell_type": "code",
   "execution_count": 1,
   "metadata": {},
   "outputs": [],
   "source": [
    "import pandas as pd"
   ]
  },
  {
   "cell_type": "code",
   "execution_count": 7,
   "metadata": {},
   "outputs": [
    {
     "data": {
      "text/html": [
       "<div>\n",
       "<style scoped>\n",
       "    .dataframe tbody tr th:only-of-type {\n",
       "        vertical-align: middle;\n",
       "    }\n",
       "\n",
       "    .dataframe tbody tr th {\n",
       "        vertical-align: top;\n",
       "    }\n",
       "\n",
       "    .dataframe thead th {\n",
       "        text-align: right;\n",
       "    }\n",
       "</style>\n",
       "<table border=\"1\" class=\"dataframe\">\n",
       "  <thead>\n",
       "    <tr style=\"text-align: right;\">\n",
       "      <th></th>\n",
       "      <th>opponent</th>\n",
       "      <th>elf</th>\n",
       "    </tr>\n",
       "  </thead>\n",
       "  <tbody>\n",
       "    <tr>\n",
       "      <th>0</th>\n",
       "      <td>A</td>\n",
       "      <td>B</td>\n",
       "    </tr>\n",
       "    <tr>\n",
       "      <th>1</th>\n",
       "      <td>A</td>\n",
       "      <td>B</td>\n",
       "    </tr>\n",
       "    <tr>\n",
       "      <th>2</th>\n",
       "      <td>B</td>\n",
       "      <td>A</td>\n",
       "    </tr>\n",
       "    <tr>\n",
       "      <th>3</th>\n",
       "      <td>A</td>\n",
       "      <td>B</td>\n",
       "    </tr>\n",
       "    <tr>\n",
       "      <th>4</th>\n",
       "      <td>C</td>\n",
       "      <td>B</td>\n",
       "    </tr>\n",
       "    <tr>\n",
       "      <th>5</th>\n",
       "      <td>B</td>\n",
       "      <td>B</td>\n",
       "    </tr>\n",
       "    <tr>\n",
       "      <th>6</th>\n",
       "      <td>B</td>\n",
       "      <td>C</td>\n",
       "    </tr>\n",
       "  </tbody>\n",
       "</table>\n",
       "</div>"
      ],
      "text/plain": [
       "  opponent elf\n",
       "0        A   B\n",
       "1        A   B\n",
       "2        B   A\n",
       "3        A   B\n",
       "4        C   B\n",
       "5        B   B\n",
       "6        B   C"
      ]
     },
     "execution_count": 7,
     "metadata": {},
     "output_type": "execute_result"
    }
   ],
   "source": [
    "df = pd.read_csv(\"data/day2\", sep =\" \", skip_blank_lines=False,header=None)\n",
    "#df.columns = [\"calories\"]\n",
    "df.columns = [\"opponent\",\"elf\"]\n",
    "df.elf = df.elf.replace(\"X\",\"A\")\n",
    "df.elf = df.elf.replace(\"Y\",\"B\")\n",
    "df.elf = df.elf.replace(\"Z\",\"C\")\n",
    "df.head(7)"
   ]
  },
  {
   "cell_type": "markdown",
   "metadata": {},
   "source": [
    "## Part 1"
   ]
  },
  {
   "cell_type": "code",
   "execution_count": 12,
   "metadata": {},
   "outputs": [],
   "source": [
    "def scoreRow(row):\n",
    "    score = 0\n",
    "    if row.elf == \"A\":\n",
    "        score += 1\n",
    "    elif row.elf == \"B\":\n",
    "        score += 2\n",
    "    elif row.elf == \"C\":\n",
    "        score += 3\n",
    "    if row.elf == row.opponent:\n",
    "        score += 3\n",
    "    if (row.elf == \"A\") * (row.opponent == \"C\"):\n",
    "        score += 6\n",
    "    elif (row.elf == \"B\") * (row.opponent == \"A\"):\n",
    "        score += 6\n",
    "    elif (row.elf == \"C\") * (row.opponent == \"B\"):\n",
    "        score += 6\n",
    "    return score"
   ]
  },
  {
   "cell_type": "code",
   "execution_count": 14,
   "metadata": {},
   "outputs": [
    {
     "data": {
      "text/plain": [
       "11906"
      ]
     },
     "execution_count": 14,
     "metadata": {},
     "output_type": "execute_result"
    }
   ],
   "source": [
    "df.apply(lambda row : scoreRow(row), axis = 1).sum()"
   ]
  },
  {
   "cell_type": "markdown",
   "metadata": {},
   "source": [
    "## Part 2"
   ]
  },
  {
   "cell_type": "code",
   "execution_count": 22,
   "metadata": {},
   "outputs": [],
   "source": [
    "wins = {}\n",
    "wins[\"A\"] = \"B\"\n",
    "wins[\"B\"] = \"C\"\n",
    "wins[\"C\"] = \"A\""
   ]
  },
  {
   "cell_type": "code",
   "execution_count": 23,
   "metadata": {},
   "outputs": [],
   "source": [
    "loss = {}\n",
    "loss[\"A\"] = \"C\"\n",
    "loss[\"B\"] = \"A\"\n",
    "loss[\"C\"] = \"B\""
   ]
  },
  {
   "cell_type": "code",
   "execution_count": 24,
   "metadata": {},
   "outputs": [],
   "source": [
    "values = {}\n",
    "values[\"A\"] = 1\n",
    "values[\"B\"] = 2\n",
    "values[\"C\"] = 3"
   ]
  },
  {
   "cell_type": "code",
   "execution_count": null,
   "metadata": {},
   "outputs": [],
   "source": [
    "types = {}\n",
    "types[\"A\"] = \"Rock\"\n",
    "types[\"B\"] = \"Paper\"\n",
    "types[\"C\"] = \"Scissors\""
   ]
  },
  {
   "cell_type": "code",
   "execution_count": 33,
   "metadata": {},
   "outputs": [],
   "source": [
    "def choiceAction(row):\n",
    "    score = 0\n",
    "    if row.elf == \"B\": # match null\n",
    "        score += 3 # match null\n",
    "        act = row.elf\n",
    "        score += values[row.elf]\n",
    "    if row.elf == \"C\": #Need to win\n",
    "        score += 6\n",
    "        act = wins[row.opponent] \n",
    "        score += values[act]\n",
    "    if row.elf == \"A\": #Need to win\n",
    "        score += 0\n",
    "        act = loss[row.opponent] \n",
    "        score += values[act]\n",
    "    return act"
   ]
  },
  {
   "cell_type": "code",
   "execution_count": 29,
   "metadata": {},
   "outputs": [],
   "source": [
    "def scoreRow(row):\n",
    "    score = 0\n",
    "    if row.elf == \"B\": # match null\n",
    "        score += 3 # match null\n",
    "        score += values[row.opponent]\n",
    "    if row.elf == \"C\": #Need to win\n",
    "        score += 6\n",
    "        act = wins[row.opponent] \n",
    "        score += values[act]\n",
    "    if row.elf == \"A\": #Need to win\n",
    "        score += 0\n",
    "        act = loss[row.opponent] \n",
    "        score += values[act]\n",
    "    return score"
   ]
  },
  {
   "cell_type": "code",
   "execution_count": 34,
   "metadata": {},
   "outputs": [
    {
     "name": "stdout",
     "output_type": "stream",
     "text": [
      "11435\n"
     ]
    },
    {
     "data": {
      "text/html": [
       "<div>\n",
       "<style scoped>\n",
       "    .dataframe tbody tr th:only-of-type {\n",
       "        vertical-align: middle;\n",
       "    }\n",
       "\n",
       "    .dataframe tbody tr th {\n",
       "        vertical-align: top;\n",
       "    }\n",
       "\n",
       "    .dataframe thead th {\n",
       "        text-align: right;\n",
       "    }\n",
       "</style>\n",
       "<table border=\"1\" class=\"dataframe\">\n",
       "  <thead>\n",
       "    <tr style=\"text-align: right;\">\n",
       "      <th></th>\n",
       "      <th>opponent</th>\n",
       "      <th>elf</th>\n",
       "      <th>SCORE</th>\n",
       "      <th>ACT</th>\n",
       "    </tr>\n",
       "  </thead>\n",
       "  <tbody>\n",
       "    <tr>\n",
       "      <th>0</th>\n",
       "      <td>A</td>\n",
       "      <td>B</td>\n",
       "      <td>5</td>\n",
       "      <td>B</td>\n",
       "    </tr>\n",
       "    <tr>\n",
       "      <th>1</th>\n",
       "      <td>A</td>\n",
       "      <td>B</td>\n",
       "      <td>5</td>\n",
       "      <td>B</td>\n",
       "    </tr>\n",
       "    <tr>\n",
       "      <th>2</th>\n",
       "      <td>B</td>\n",
       "      <td>A</td>\n",
       "      <td>1</td>\n",
       "      <td>A</td>\n",
       "    </tr>\n",
       "    <tr>\n",
       "      <th>3</th>\n",
       "      <td>A</td>\n",
       "      <td>B</td>\n",
       "      <td>5</td>\n",
       "      <td>B</td>\n",
       "    </tr>\n",
       "    <tr>\n",
       "      <th>4</th>\n",
       "      <td>C</td>\n",
       "      <td>B</td>\n",
       "      <td>5</td>\n",
       "      <td>B</td>\n",
       "    </tr>\n",
       "    <tr>\n",
       "      <th>...</th>\n",
       "      <td>...</td>\n",
       "      <td>...</td>\n",
       "      <td>...</td>\n",
       "      <td>...</td>\n",
       "    </tr>\n",
       "    <tr>\n",
       "      <th>2495</th>\n",
       "      <td>A</td>\n",
       "      <td>B</td>\n",
       "      <td>5</td>\n",
       "      <td>B</td>\n",
       "    </tr>\n",
       "    <tr>\n",
       "      <th>2496</th>\n",
       "      <td>A</td>\n",
       "      <td>B</td>\n",
       "      <td>5</td>\n",
       "      <td>B</td>\n",
       "    </tr>\n",
       "    <tr>\n",
       "      <th>2497</th>\n",
       "      <td>A</td>\n",
       "      <td>B</td>\n",
       "      <td>5</td>\n",
       "      <td>B</td>\n",
       "    </tr>\n",
       "    <tr>\n",
       "      <th>2498</th>\n",
       "      <td>B</td>\n",
       "      <td>B</td>\n",
       "      <td>5</td>\n",
       "      <td>B</td>\n",
       "    </tr>\n",
       "    <tr>\n",
       "      <th>2499</th>\n",
       "      <td>A</td>\n",
       "      <td>B</td>\n",
       "      <td>5</td>\n",
       "      <td>B</td>\n",
       "    </tr>\n",
       "  </tbody>\n",
       "</table>\n",
       "<p>2500 rows × 4 columns</p>\n",
       "</div>"
      ],
      "text/plain": [
       "     opponent elf  SCORE ACT\n",
       "0           A   B      5   B\n",
       "1           A   B      5   B\n",
       "2           B   A      1   A\n",
       "3           A   B      5   B\n",
       "4           C   B      5   B\n",
       "...       ...  ..    ...  ..\n",
       "2495        A   B      5   B\n",
       "2496        A   B      5   B\n",
       "2497        A   B      5   B\n",
       "2498        B   B      5   B\n",
       "2499        A   B      5   B\n",
       "\n",
       "[2500 rows x 4 columns]"
      ]
     },
     "execution_count": 34,
     "metadata": {},
     "output_type": "execute_result"
    }
   ],
   "source": [
    "df[\"SCORE\"] = df.apply(lambda row : scoreRow(row), axis = 1)\n",
    "df[\"ACT\"] = df.apply(lambda row : choiceAction(row), axis = 1)\n",
    "# 11672 too high // 11435 // 11435\n",
    "print(df[\"SCORE\"] .sum())\n",
    "df"
   ]
  }
 ],
 "metadata": {
  "kernelspec": {
   "display_name": "Python 3.8.12 ('base')",
   "language": "python",
   "name": "python3"
  },
  "language_info": {
   "codemirror_mode": {
    "name": "ipython",
    "version": 3
   },
   "file_extension": ".py",
   "mimetype": "text/x-python",
   "name": "python",
   "nbconvert_exporter": "python",
   "pygments_lexer": "ipython3",
   "version": "3.8.12"
  },
  "orig_nbformat": 4,
  "vscode": {
   "interpreter": {
    "hash": "7307f54e1f4873c223d549f6e23e484f7292421b4d89319ccefca3eaafb2cf67"
   }
  }
 },
 "nbformat": 4,
 "nbformat_minor": 2
}
