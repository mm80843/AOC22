{
 "cells": [
  {
   "cell_type": "code",
   "execution_count": 1,
   "metadata": {},
   "outputs": [],
   "source": [
    "import pandas as pd"
   ]
  },
  {
   "cell_type": "code",
   "execution_count": 2,
   "metadata": {},
   "outputs": [
    {
     "data": {
      "text/html": [
       "<div>\n",
       "<style scoped>\n",
       "    .dataframe tbody tr th:only-of-type {\n",
       "        vertical-align: middle;\n",
       "    }\n",
       "\n",
       "    .dataframe tbody tr th {\n",
       "        vertical-align: top;\n",
       "    }\n",
       "\n",
       "    .dataframe thead th {\n",
       "        text-align: right;\n",
       "    }\n",
       "</style>\n",
       "<table border=\"1\" class=\"dataframe\">\n",
       "  <thead>\n",
       "    <tr style=\"text-align: right;\">\n",
       "      <th></th>\n",
       "      <th>item</th>\n",
       "    </tr>\n",
       "  </thead>\n",
       "  <tbody>\n",
       "    <tr>\n",
       "      <th>0</th>\n",
       "      <td>PPZTzDhJPLqPhqDTqrwQZZWbmCBMJMcsNmCBFWmMcsNb</td>\n",
       "    </tr>\n",
       "    <tr>\n",
       "      <th>1</th>\n",
       "      <td>vplSlfdfGvfRRGsgNcMglsFWMWMC</td>\n",
       "    </tr>\n",
       "    <tr>\n",
       "      <th>2</th>\n",
       "      <td>jtjvFHdjjwqrwqwL</td>\n",
       "    </tr>\n",
       "    <tr>\n",
       "      <th>3</th>\n",
       "      <td>NSffhsNSjfLjfstsjtjNNjjqMqnpggHngqgHGHCgClGbCzCC</td>\n",
       "    </tr>\n",
       "    <tr>\n",
       "      <th>4</th>\n",
       "      <td>dDPZZDZFdwFWwFZFWZRTFDwGzCMlgnpgCpnzglClHMbg</td>\n",
       "    </tr>\n",
       "    <tr>\n",
       "      <th>...</th>\n",
       "      <td>...</td>\n",
       "    </tr>\n",
       "    <tr>\n",
       "      <th>295</th>\n",
       "      <td>qZlTTgTvlHnqvllPssQrgQcQwscrQMsf</td>\n",
       "    </tr>\n",
       "    <tr>\n",
       "      <th>296</th>\n",
       "      <td>CClpSnTllZnZCDLHnlNzGSRmRthVmmzqJzhd</td>\n",
       "    </tr>\n",
       "    <tr>\n",
       "      <th>297</th>\n",
       "      <td>DLzSMtDLtzmmlDlMlMDbcrcTDqFvVvVqqTbD</td>\n",
       "    </tr>\n",
       "    <tr>\n",
       "      <th>298</th>\n",
       "      <td>dnZshHpZRChgnszRwRZCpTqqTcwVqFcrVqcBVPqVTr</td>\n",
       "    </tr>\n",
       "    <tr>\n",
       "      <th>299</th>\n",
       "      <td>snRRRdJsZgphCWlWtmJSjWWzjt</td>\n",
       "    </tr>\n",
       "  </tbody>\n",
       "</table>\n",
       "<p>300 rows × 1 columns</p>\n",
       "</div>"
      ],
      "text/plain": [
       "                                                 item\n",
       "0        PPZTzDhJPLqPhqDTqrwQZZWbmCBMJMcsNmCBFWmMcsNb\n",
       "1                        vplSlfdfGvfRRGsgNcMglsFWMWMC\n",
       "2                                    jtjvFHdjjwqrwqwL\n",
       "3    NSffhsNSjfLjfstsjtjNNjjqMqnpggHngqgHGHCgClGbCzCC\n",
       "4        dDPZZDZFdwFWwFZFWZRTFDwGzCMlgnpgCpnzglClHMbg\n",
       "..                                                ...\n",
       "295                  qZlTTgTvlHnqvllPssQrgQcQwscrQMsf\n",
       "296              CClpSnTllZnZCDLHnlNzGSRmRthVmmzqJzhd\n",
       "297              DLzSMtDLtzmmlDlMlMDbcrcTDqFvVvVqqTbD\n",
       "298        dnZshHpZRChgnszRwRZCpTqqTcwVqFcrVqcBVPqVTr\n",
       "299                        snRRRdJsZgphCWlWtmJSjWWzjt\n",
       "\n",
       "[300 rows x 1 columns]"
      ]
     },
     "execution_count": 2,
     "metadata": {},
     "output_type": "execute_result"
    }
   ],
   "source": [
    "df = pd.read_csv(\"data/day3\", sep =\" \", skip_blank_lines=False,header=None)\n",
    "df.columns = [\"item\"] \n",
    "df"
   ]
  },
  {
   "cell_type": "code",
   "execution_count": 3,
   "metadata": {},
   "outputs": [],
   "source": [
    "def splitCol(item):\n",
    "    L = len(item)\n",
    "    A, B = str(item)[:L//2],str(item)[L//2:]\n",
    "    common = [x for x in A if x in B][0]\n",
    "    return common"
   ]
  },
  {
   "cell_type": "code",
   "execution_count": 4,
   "metadata": {},
   "outputs": [],
   "source": [
    "def splitCol(item):\n",
    "    L = len(item)\n",
    "    A, B = str(item)[:L//2],str(item)[L//2:]\n",
    "    common = [x for x in A if x in B][-1]\n",
    "    return common"
   ]
  },
  {
   "cell_type": "code",
   "execution_count": 5,
   "metadata": {},
   "outputs": [],
   "source": [
    "def valuePriority(char):\n",
    "    x = ord(char)\n",
    "    if x > 96:\n",
    "        prio = x - 96 \n",
    "    else:\n",
    "        prio = x - 65 +27\n",
    "    return prio"
   ]
  },
  {
   "cell_type": "markdown",
   "metadata": {},
   "source": [
    "Find the item type that appears in both compartments of each rucksack. What is the sum of the priorities of those item types?"
   ]
  },
  {
   "cell_type": "code",
   "execution_count": 6,
   "metadata": {},
   "outputs": [
    {
     "name": "stdout",
     "output_type": "stream",
     "text": [
      "300 7863\n"
     ]
    },
    {
     "data": {
      "text/html": [
       "<div>\n",
       "<style scoped>\n",
       "    .dataframe tbody tr th:only-of-type {\n",
       "        vertical-align: middle;\n",
       "    }\n",
       "\n",
       "    .dataframe tbody tr th {\n",
       "        vertical-align: top;\n",
       "    }\n",
       "\n",
       "    .dataframe thead th {\n",
       "        text-align: right;\n",
       "    }\n",
       "</style>\n",
       "<table border=\"1\" class=\"dataframe\">\n",
       "  <thead>\n",
       "    <tr style=\"text-align: right;\">\n",
       "      <th></th>\n",
       "      <th>item</th>\n",
       "      <th>common</th>\n",
       "      <th>priority</th>\n",
       "    </tr>\n",
       "  </thead>\n",
       "  <tbody>\n",
       "    <tr>\n",
       "      <th>0</th>\n",
       "      <td>PPZTzDhJPLqPhqDTqrwQZZWbmCBMJMcsNmCBFWmMcsNb</td>\n",
       "      <td>J</td>\n",
       "      <td>36</td>\n",
       "    </tr>\n",
       "    <tr>\n",
       "      <th>1</th>\n",
       "      <td>vplSlfdfGvfRRGsgNcMglsFWMWMC</td>\n",
       "      <td>l</td>\n",
       "      <td>12</td>\n",
       "    </tr>\n",
       "    <tr>\n",
       "      <th>2</th>\n",
       "      <td>jtjvFHdjjwqrwqwL</td>\n",
       "      <td>j</td>\n",
       "      <td>10</td>\n",
       "    </tr>\n",
       "    <tr>\n",
       "      <th>3</th>\n",
       "      <td>NSffhsNSjfLjfstsjtjNNjjqMqnpggHngqgHGHCgClGbCzCC</td>\n",
       "      <td>q</td>\n",
       "      <td>17</td>\n",
       "    </tr>\n",
       "    <tr>\n",
       "      <th>4</th>\n",
       "      <td>dDPZZDZFdwFWwFZFWZRTFDwGzCMlgnpgCpnzglClHMbg</td>\n",
       "      <td>w</td>\n",
       "      <td>23</td>\n",
       "    </tr>\n",
       "    <tr>\n",
       "      <th>...</th>\n",
       "      <td>...</td>\n",
       "      <td>...</td>\n",
       "      <td>...</td>\n",
       "    </tr>\n",
       "    <tr>\n",
       "      <th>295</th>\n",
       "      <td>qZlTTgTvlHnqvllPssQrgQcQwscrQMsf</td>\n",
       "      <td>g</td>\n",
       "      <td>7</td>\n",
       "    </tr>\n",
       "    <tr>\n",
       "      <th>296</th>\n",
       "      <td>CClpSnTllZnZCDLHnlNzGSRmRthVmmzqJzhd</td>\n",
       "      <td>S</td>\n",
       "      <td>45</td>\n",
       "    </tr>\n",
       "    <tr>\n",
       "      <th>297</th>\n",
       "      <td>DLzSMtDLtzmmlDlMlMDbcrcTDqFvVvVqqTbD</td>\n",
       "      <td>D</td>\n",
       "      <td>30</td>\n",
       "    </tr>\n",
       "    <tr>\n",
       "      <th>298</th>\n",
       "      <td>dnZshHpZRChgnszRwRZCpTqqTcwVqFcrVqcBVPqVTr</td>\n",
       "      <td>w</td>\n",
       "      <td>23</td>\n",
       "    </tr>\n",
       "    <tr>\n",
       "      <th>299</th>\n",
       "      <td>snRRRdJsZgphCWlWtmJSjWWzjt</td>\n",
       "      <td>J</td>\n",
       "      <td>36</td>\n",
       "    </tr>\n",
       "  </tbody>\n",
       "</table>\n",
       "<p>300 rows × 3 columns</p>\n",
       "</div>"
      ],
      "text/plain": [
       "                                                 item common  priority\n",
       "0        PPZTzDhJPLqPhqDTqrwQZZWbmCBMJMcsNmCBFWmMcsNb      J        36\n",
       "1                        vplSlfdfGvfRRGsgNcMglsFWMWMC      l        12\n",
       "2                                    jtjvFHdjjwqrwqwL      j        10\n",
       "3    NSffhsNSjfLjfstsjtjNNjjqMqnpggHngqgHGHCgClGbCzCC      q        17\n",
       "4        dDPZZDZFdwFWwFZFWZRTFDwGzCMlgnpgCpnzglClHMbg      w        23\n",
       "..                                                ...    ...       ...\n",
       "295                  qZlTTgTvlHnqvllPssQrgQcQwscrQMsf      g         7\n",
       "296              CClpSnTllZnZCDLHnlNzGSRmRthVmmzqJzhd      S        45\n",
       "297              DLzSMtDLtzmmlDlMlMDbcrcTDqFvVvVqqTbD      D        30\n",
       "298        dnZshHpZRChgnszRwRZCpTqqTcwVqFcrVqcBVPqVTr      w        23\n",
       "299                        snRRRdJsZgphCWlWtmJSjWWzjt      J        36\n",
       "\n",
       "[300 rows x 3 columns]"
      ]
     },
     "execution_count": 6,
     "metadata": {},
     "output_type": "execute_result"
    }
   ],
   "source": [
    "df[\"common\"]   = df.item.apply(lambda x: splitCol(x))\n",
    "df[\"priority\"] = df.common.apply(lambda x: valuePriority(x))\n",
    "print(len(df),df[\"priority\"].sum())\n",
    "#df = df.sort_values(by=\"common\")\n",
    "# 7846 too low ??\n",
    "df"
   ]
  },
  {
   "cell_type": "code",
   "execution_count": 7,
   "metadata": {
    "tags": [
     "parameters"
    ]
   },
   "outputs": [
    {
     "data": {
      "text/plain": [
       "(38, 22, 42)"
      ]
     },
     "execution_count": 7,
     "metadata": {},
     "output_type": "execute_result"
    }
   ],
   "source": [
    "valuePriority(\"L\"),valuePriority(\"v\"),valuePriority(\"P\")"
   ]
  },
  {
   "cell_type": "markdown",
   "metadata": {},
   "source": [
    "## Part 2"
   ]
  },
  {
   "cell_type": "code",
   "execution_count": 8,
   "metadata": {},
   "outputs": [],
   "source": [
    "counterGroup = 0\n",
    "groupData = []\n",
    "smallGroup = []\n",
    "for ix, row in df.iterrows():\n",
    "    smallGroup.append(row[\"item\"])\n",
    "    counterGroup += 1\n",
    "    if counterGroup > 2:\n",
    "        a = list(set(smallGroup[0]))\n",
    "        b = list(set(smallGroup[1]))\n",
    "        c = list(set(smallGroup[2]))\n",
    "        RES = set(a).intersection(b).intersection(c)\n",
    "        smallGroup = []\n",
    "        RES = list(RES)[-1]\n",
    "        groupData.append(RES)\n",
    "        counterGroup = 0"
   ]
  },
  {
   "cell_type": "code",
   "execution_count": 9,
   "metadata": {},
   "outputs": [
    {
     "name": "stdout",
     "output_type": "stream",
     "text": [
      "2488\n"
     ]
    }
   ],
   "source": [
    "totalScore = 0\n",
    "for k in groupData:\n",
    "    totalScore += valuePriority(k)\n",
    "print(totalScore)"
   ]
  }
 ],
 "metadata": {
  "kernelspec": {
   "display_name": "Python 3.8.12 ('base')",
   "language": "python",
   "name": "python3"
  },
  "language_info": {
   "codemirror_mode": {
    "name": "ipython",
    "version": 3
   },
   "file_extension": ".py",
   "mimetype": "text/x-python",
   "name": "python",
   "nbconvert_exporter": "python",
   "pygments_lexer": "ipython3",
   "version": "3.8.12"
  },
  "orig_nbformat": 4,
  "vscode": {
   "interpreter": {
    "hash": "7307f54e1f4873c223d549f6e23e484f7292421b4d89319ccefca3eaafb2cf67"
   }
  }
 },
 "nbformat": 4,
 "nbformat_minor": 2
}
