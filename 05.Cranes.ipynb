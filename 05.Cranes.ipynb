{
 "cells": [
  {
   "cell_type": "code",
   "execution_count": 1,
   "metadata": {},
   "outputs": [],
   "source": [
    "import pandas as pd"
   ]
  },
  {
   "cell_type": "code",
   "execution_count": 78,
   "metadata": {},
   "outputs": [],
   "source": [
    "def createStack(cranes):\n",
    "    piles = {}\n",
    "    for k in range(9):\n",
    "        #print(cranes[0][1+k*4])\n",
    "        piles[k+1] = []\n",
    "    for pile in range(len(cranes)-1):\n",
    "        for k in range(9):\n",
    "            crate = cranes[pile+1][1+k*4]\n",
    "            if crate != \" \":\n",
    "                piles[k+1].append(crate)\n",
    "    return piles"
   ]
  },
  {
   "cell_type": "markdown",
   "metadata": {},
   "source": [
    "### Creating the piles"
   ]
  },
  {
   "cell_type": "code",
   "execution_count": 105,
   "metadata": {},
   "outputs": [
    {
     "data": {
      "text/plain": [
       "[['R', 'G', 'J', 'B', 'T', 'V', 'Z'],\n",
       " ['J', 'R', 'V', 'L'],\n",
       " ['S', 'Q', 'F'],\n",
       " ['Z', 'H', 'N', 'L', 'F', 'V', 'Q', 'G'],\n",
       " ['R', 'Q', 'T', 'J', 'C', 'S', 'M', 'W'],\n",
       " ['S', 'W', 'T', 'C', 'H', 'F'],\n",
       " ['D', 'Z', 'C', 'V', 'F', 'N', 'J'],\n",
       " ['L', 'G', 'Z', 'D', 'W', 'R', 'F', 'Q'],\n",
       " ['J', 'B', 'W', 'V', 'P']]"
      ]
     },
     "execution_count": 105,
     "metadata": {},
     "output_type": "execute_result"
    }
   ],
   "source": [
    "def cratePiles():\n",
    "    with open(\"data/day5\") as myfile:\n",
    "        head = [next(myfile).replace(\"\\n\",\"\") for x in range(10)]\n",
    "    head.reverse()\n",
    "    cranes = head[1:]\n",
    "    piles = createStack(cranes)\n",
    "    piles = [piles[k+1] for k in range(9) ]\n",
    "    return piles\n",
    "piles = cratePiles()\n",
    "piles"
   ]
  },
  {
   "cell_type": "markdown",
   "metadata": {},
   "source": [
    "### Creating the orders"
   ]
  },
  {
   "cell_type": "code",
   "execution_count": 119,
   "metadata": {},
   "outputs": [],
   "source": [
    "def move(plan,qtty,src,dst):\n",
    "    src = src - 1\n",
    "    dst = dst - 1\n",
    "    for k in range(qtty):\n",
    "        #print(dst,src,plan[src][-1])\n",
    "        plan[dst] += plan[src][-1]\n",
    "        plan[src].pop()\n",
    "    return plan"
   ]
  },
  {
   "cell_type": "code",
   "execution_count": 122,
   "metadata": {},
   "outputs": [
    {
     "data": {
      "text/html": [
       "<div>\n",
       "<style scoped>\n",
       "    .dataframe tbody tr th:only-of-type {\n",
       "        vertical-align: middle;\n",
       "    }\n",
       "\n",
       "    .dataframe tbody tr th {\n",
       "        vertical-align: top;\n",
       "    }\n",
       "\n",
       "    .dataframe thead th {\n",
       "        text-align: right;\n",
       "    }\n",
       "</style>\n",
       "<table border=\"1\" class=\"dataframe\">\n",
       "  <thead>\n",
       "    <tr style=\"text-align: right;\">\n",
       "      <th></th>\n",
       "      <th>move</th>\n",
       "      <th>qtty</th>\n",
       "      <th>from</th>\n",
       "      <th>src</th>\n",
       "      <th>to</th>\n",
       "      <th>dst</th>\n",
       "    </tr>\n",
       "  </thead>\n",
       "  <tbody>\n",
       "    <tr>\n",
       "      <th>0</th>\n",
       "      <td>move</td>\n",
       "      <td>6</td>\n",
       "      <td>from</td>\n",
       "      <td>5</td>\n",
       "      <td>to</td>\n",
       "      <td>7</td>\n",
       "    </tr>\n",
       "    <tr>\n",
       "      <th>1</th>\n",
       "      <td>move</td>\n",
       "      <td>2</td>\n",
       "      <td>from</td>\n",
       "      <td>9</td>\n",
       "      <td>to</td>\n",
       "      <td>1</td>\n",
       "    </tr>\n",
       "  </tbody>\n",
       "</table>\n",
       "</div>"
      ],
      "text/plain": [
       "   move  qtty  from  src  to  dst\n",
       "0  move     6  from    5  to    7\n",
       "1  move     2  from    9  to    1"
      ]
     },
     "execution_count": 122,
     "metadata": {},
     "output_type": "execute_result"
    }
   ],
   "source": [
    "# Reading the commands\n",
    "df = pd.read_csv(\"data/day5\", sep =\" \", skiprows=10, skip_blank_lines=False,header=None)\n",
    "df.columns = [\"move\",\"qtty\",\"from\",\"src\",\"to\",\"dst\"]\n",
    "df.head(2)"
   ]
  },
  {
   "cell_type": "code",
   "execution_count": 121,
   "metadata": {},
   "outputs": [
    {
     "data": {
      "text/plain": [
       "'ZSQVCCJLL'"
      ]
     },
     "execution_count": 121,
     "metadata": {},
     "output_type": "execute_result"
    }
   ],
   "source": [
    "piles = cratePiles()\n",
    "for _, row in df.iterrows():\n",
    "    #print(\"Action:\",row.qtty,row.src,row.dst)\n",
    "    piles = move(piles,row.qtty,row.src,row.dst)\n",
    "CODE = \"\"\n",
    "for k in piles:\n",
    "    CODE += k[-1]\n",
    "CODE"
   ]
  },
  {
   "cell_type": "markdown",
   "metadata": {},
   "source": [
    "## Part 2"
   ]
  },
  {
   "cell_type": "code",
   "execution_count": 123,
   "metadata": {},
   "outputs": [],
   "source": [
    "def moveBis(plan,qtty,src,dst):\n",
    "    src = src - 1\n",
    "    dst = dst - 1\n",
    "    plan[dst] += plan[src][-qtty:]\n",
    "    for k in range(qtty):\n",
    "        plan[src].pop()\n",
    "    return plan"
   ]
  },
  {
   "cell_type": "code",
   "execution_count": 124,
   "metadata": {},
   "outputs": [
    {
     "data": {
      "text/plain": [
       "'QZFJRWHGS'"
      ]
     },
     "execution_count": 124,
     "metadata": {},
     "output_type": "execute_result"
    }
   ],
   "source": [
    "piles = cratePiles()\n",
    "for _, row in df.iterrows():\n",
    "    #print(\"Action:\",row.qtty,row.src,row.dst)\n",
    "    piles = moveBis(piles,row.qtty,row.src,row.dst)\n",
    "CODE = \"\"\n",
    "for k in piles:\n",
    "    CODE += k[-1]\n",
    "CODE"
   ]
  }
 ],
 "metadata": {
  "kernelspec": {
   "display_name": "Python 3.8.12 ('base')",
   "language": "python",
   "name": "python3"
  },
  "language_info": {
   "codemirror_mode": {
    "name": "ipython",
    "version": 3
   },
   "file_extension": ".py",
   "mimetype": "text/x-python",
   "name": "python",
   "nbconvert_exporter": "python",
   "pygments_lexer": "ipython3",
   "version": "3.8.12"
  },
  "orig_nbformat": 4,
  "vscode": {
   "interpreter": {
    "hash": "7307f54e1f4873c223d549f6e23e484f7292421b4d89319ccefca3eaafb2cf67"
   }
  }
 },
 "nbformat": 4,
 "nbformat_minor": 2
}
