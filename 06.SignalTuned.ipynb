{
 "cells": [
  {
   "cell_type": "code",
   "execution_count": 33,
   "metadata": {},
   "outputs": [
    {
     "data": {
      "text/plain": [
       "4091"
      ]
     },
     "execution_count": 33,
     "metadata": {},
     "output_type": "execute_result"
    }
   ],
   "source": [
    "with open(\"data/day6\") as myfile:\n",
    "    head = myfile\n",
    "    txt = myfile.read()\n",
    "RES = []\n",
    "for k in range (len(txt)-4+1):\n",
    "    m = len(set(list(txt[k:k+4])))\n",
    "    RES.append(m)\n",
    "k"
   ]
  },
  {
   "cell_type": "code",
   "execution_count": 35,
   "metadata": {},
   "outputs": [
    {
     "name": "stdout",
     "output_type": "stream",
     "text": [
      "Result: 1542\n"
     ]
    }
   ],
   "source": [
    "l = [x for x in range(len(RES)) if RES[x]> (4-1)]\n",
    "# too low 1538 ; test 1542\n",
    "# second : 3143 too low, 3143+14\n",
    "print(\"Result:\",l[0] +4)"
   ]
  },
  {
   "cell_type": "code",
   "execution_count": 36,
   "metadata": {},
   "outputs": [
    {
     "name": "stdout",
     "output_type": "stream",
     "text": [
      "Result: 3153\n"
     ]
    }
   ],
   "source": [
    "with open(\"data/day6\") as myfile:\n",
    "    head = myfile\n",
    "    txt = myfile.read()\n",
    "RES = []\n",
    "for k in range (len(txt)-14+1):\n",
    "    m = len(set(list(txt[k:k+14])))\n",
    "    RES.append(m)\n",
    "l = [x for x in range(len(RES)) if RES[x]> (14-1)]\n",
    "print(\"Result:\",l[0] +14)"
   ]
  }
 ],
 "metadata": {
  "kernelspec": {
   "display_name": "Python 3.8.12 ('base')",
   "language": "python",
   "name": "python3"
  },
  "language_info": {
   "codemirror_mode": {
    "name": "ipython",
    "version": 3
   },
   "file_extension": ".py",
   "mimetype": "text/x-python",
   "name": "python",
   "nbconvert_exporter": "python",
   "pygments_lexer": "ipython3",
   "version": "3.8.12"
  },
  "orig_nbformat": 4,
  "vscode": {
   "interpreter": {
    "hash": "7307f54e1f4873c223d549f6e23e484f7292421b4d89319ccefca3eaafb2cf67"
   }
  }
 },
 "nbformat": 4,
 "nbformat_minor": 2
}
